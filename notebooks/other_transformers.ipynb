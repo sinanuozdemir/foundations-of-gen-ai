{
 "cells": [
  {
   "cell_type": "markdown",
   "id": "strange-retrieval",
   "metadata": {},
   "source": [
    "### NER: Named Enitty Recognition: Using token classification to classify entites from natural language"
   ]
  },
  {
   "cell_type": "code",
   "execution_count": 1,
   "id": "floppy-deviation",
   "metadata": {},
   "outputs": [
    {
     "name": "stdout",
     "output_type": "stream",
     "text": [
      "INFO:tensorflow:Enabling eager execution\n",
      "INFO:tensorflow:Enabling v2 tensorshape\n",
      "INFO:tensorflow:Enabling resource variables\n",
      "INFO:tensorflow:Enabling tensor equality\n",
      "INFO:tensorflow:Enabling control flow v2\n"
     ]
    }
   ],
   "source": [
    "from transformers import AutoTokenizer, AutoModel, AutoModelForTokenClassification, pipeline"
   ]
  },
  {
   "cell_type": "code",
   "execution_count": 14,
   "id": "absolute-story",
   "metadata": {},
   "outputs": [],
   "source": [
    "# https://huggingface.co/savasy/bert-base-turkish-ner-cased\n",
    "\n",
    "custom_module = 'savasy/bert-base-turkish-ner-cased'\n",
    "\n",
    "turkish_ner_tokenizer = AutoTokenizer.from_pretrained(custom_module)\n",
    "turkish_ner_model = AutoModelForTokenClassification.from_pretrained(custom_module)"
   ]
  },
  {
   "cell_type": "code",
   "execution_count": 3,
   "id": "unnecessary-bosnia",
   "metadata": {},
   "outputs": [
    {
     "data": {
      "text/plain": [
       "[{'entity': 'B-PER',\n",
       "  'score': 0.72424716,\n",
       "  'index': 5,\n",
       "  'word': 'Sinan',\n",
       "  'start': 20,\n",
       "  'end': 25},\n",
       " {'entity': 'B-LOC',\n",
       "  'score': 0.99879956,\n",
       "  'index': 7,\n",
       "  'word': 'San',\n",
       "  'start': 27,\n",
       "  'end': 30},\n",
       " {'entity': 'I-LOC',\n",
       "  'score': 0.9977098,\n",
       "  'index': 8,\n",
       "  'word': 'Francisco',\n",
       "  'start': 31,\n",
       "  'end': 40}]"
      ]
     },
     "execution_count": 3,
     "metadata": {},
     "output_type": "execute_result"
    }
   ],
   "source": [
    "sequence = \"Merhaba! Benim adım Sinan. San Francisco'dan geliyorum\" # Hi! I'm Sinan. I come from San Francisco\"\n",
    "\n",
    "ner=pipeline('ner', model=turkish_ner_model, tokenizer=turkish_ner_tokenizer)\n",
    "ner(sequence)"
   ]
  },
  {
   "cell_type": "code",
   "execution_count": null,
   "id": "raising-rating",
   "metadata": {},
   "outputs": [],
   "source": []
  },
  {
   "cell_type": "code",
   "execution_count": null,
   "id": "automated-authentication",
   "metadata": {},
   "outputs": [],
   "source": []
  },
  {
   "cell_type": "markdown",
   "id": "extreme-offer",
   "metadata": {},
   "source": [
    "### Speech Transcription"
   ]
  },
  {
   "cell_type": "code",
   "execution_count": 4,
   "id": "greenhouse-israeli",
   "metadata": {},
   "outputs": [
    {
     "data": {
      "application/vnd.jupyter.widget-view+json": {
       "model_id": "d4333931f48b46148b41d2b28dc6e0cf",
       "version_major": 2,
       "version_minor": 0
      },
      "text/plain": [
       "Downloading:   0%|          | 0.00/1.18G [00:00<?, ?B/s]"
      ]
     },
     "metadata": {},
     "output_type": "display_data"
    },
    {
     "data": {
      "text/plain": [
       "'WHAT A WONDERFUL CLASS'"
      ]
     },
     "execution_count": 4,
     "metadata": {},
     "output_type": "execute_result"
    }
   ],
   "source": [
    "import librosa    \n",
    "import torch\n",
    "from transformers import Wav2Vec2Processor, HubertForCTC\n",
    "from datasets import load_dataset\n",
    "import soundfile as sf\n",
    "\n",
    "processor = Wav2Vec2Processor.from_pretrained(\"facebook/hubert-large-ls960-ft\")\n",
    "model = HubertForCTC.from_pretrained(\"facebook/hubert-large-ls960-ft\")\n",
    "\n",
    "local_file, sampling_rate = librosa.load('../data/sample.wav', sr=16000) # Downsample to 16kHz as the model was trained in\n",
    "\n",
    "input_values = processor(local_file, return_tensors=\"pt\", sampling_rate=sampling_rate).input_values\n",
    "logits = model(input_values).logits\n",
    "predicted_ids = torch.argmax(logits, dim=-1)\n",
    "transcription = processor.decode(predicted_ids[0])\n",
    "\n",
    "transcription"
   ]
  },
  {
   "cell_type": "code",
   "execution_count": null,
   "id": "preliminary-traffic",
   "metadata": {},
   "outputs": [],
   "source": []
  },
  {
   "cell_type": "code",
   "execution_count": null,
   "id": "educational-cleaning",
   "metadata": {},
   "outputs": [],
   "source": []
  },
  {
   "cell_type": "markdown",
   "id": "inappropriate-demographic",
   "metadata": {},
   "source": [
    "## Image Captioning does't do THAT much better than ours :) \n",
    "https://huggingface.co/spaces/flax-community/image-captioning\n",
    "<img title=\"a title\" alt=\"Attention\" src=\"../images/ViT.png\">"
   ]
  },
  {
   "cell_type": "code",
   "execution_count": null,
   "id": "concrete-proposal",
   "metadata": {},
   "outputs": [],
   "source": []
  },
  {
   "cell_type": "code",
   "execution_count": null,
   "id": "great-jewel",
   "metadata": {},
   "outputs": [],
   "source": []
  },
  {
   "cell_type": "markdown",
   "id": "assumed-moldova",
   "metadata": {},
   "source": [
    "## Text to Image. Truly Horrifying :)\n",
    "https://huggingface.co/spaces/flax-community/dalle-mini\n",
    "<img title=\"a title\" alt=\"Attention\" src=\"../images/texttoimage.png\">"
   ]
  },
  {
   "cell_type": "code",
   "execution_count": null,
   "id": "alike-toner",
   "metadata": {},
   "outputs": [],
   "source": []
  },
  {
   "cell_type": "code",
   "execution_count": null,
   "id": "competitive-delhi",
   "metadata": {},
   "outputs": [],
   "source": []
  },
  {
   "cell_type": "markdown",
   "id": "worth-infection",
   "metadata": {},
   "source": [
    "## Python code completion\n",
    "\n",
    "[Huggingface repo here](https://huggingface.co/Sentdex/GPyT)"
   ]
  },
  {
   "cell_type": "code",
   "execution_count": 12,
   "id": "interpreted-database",
   "metadata": {},
   "outputs": [],
   "source": [
    "from transformers import AutoModelWithLMHead\n",
    "\n",
    "tokenizer = AutoTokenizer.from_pretrained(\"Sentdex/GPyT\")\n",
    "model = AutoModelWithLMHead.from_pretrained(\"Sentdex/GPyT\")"
   ]
  },
  {
   "cell_type": "code",
   "execution_count": 13,
   "id": "excited-snake",
   "metadata": {},
   "outputs": [
    {
     "name": "stderr",
     "output_type": "stream",
     "text": [
      "Setting `pad_token_id` to `eos_token_id`:2 for open-end generation.\n"
     ]
    },
    {
     "name": "stdout",
     "output_type": "stream",
     "text": [
      "import pandas as pd\n",
      "import numpy as np\n",
      "\n",
      "df = pd.read_csv('data/data/data\n"
     ]
    }
   ],
   "source": [
    "input_code = \"\"\"import pandas as pd\n",
    "import numpy as np\n",
    "\n",
    "df = pd\"\"\"  # I'd expect a read_csv here\n",
    "\n",
    "converted = input_code.replace(\"\\n\", \"<N>\")\n",
    "tokenized = tokenizer.encode(converted, return_tensors='pt')\n",
    "resp = model.generate(tokenized, beams=3, max_length=tokenized.shape[1] + 10)\n",
    "\n",
    "decoded = tokenizer.decode(resp[0])\n",
    "reformatted = decoded.replace(\"<N>\",\"\\n\")\n",
    "\n",
    "print(reformatted)"
   ]
  },
  {
   "cell_type": "code",
   "execution_count": null,
   "id": "digital-swaziland",
   "metadata": {},
   "outputs": [],
   "source": []
  },
  {
   "cell_type": "code",
   "execution_count": null,
   "id": "enabling-saver",
   "metadata": {},
   "outputs": [],
   "source": []
  },
  {
   "cell_type": "markdown",
   "id": "complimentary-better",
   "metadata": {},
   "source": [
    "## Article Headline Generation\n",
    "\n",
    "[Huggingface repo here](https://huggingface.co/Michau/t5-base-en-generate-headline)"
   ]
  },
  {
   "cell_type": "code",
   "execution_count": 16,
   "id": "disciplinary-protection",
   "metadata": {},
   "outputs": [],
   "source": [
    "import torch\n",
    "from transformers import T5ForConditionalGeneration, T5Tokenizer\n",
    "\n",
    "device = torch.device(\"cuda\" if torch.cuda.is_available() else \"cpu\")\n",
    "\n",
    "model = T5ForConditionalGeneration.from_pretrained(\"Michau/t5-base-en-generate-headline\")\n",
    "tokenizer = T5Tokenizer.from_pretrained(\"Michau/t5-base-en-generate-headline\")\n",
    "model = model.to(device)"
   ]
  },
  {
   "cell_type": "code",
   "execution_count": 17,
   "id": "exposed-exchange",
   "metadata": {},
   "outputs": [
    {
     "name": "stdout",
     "output_type": "stream",
     "text": [
      "<pad> Trump and First Lady Melania Test Positive for COVID-19</s>\n"
     ]
    }
   ],
   "source": [
    "article = '''\n",
    "Very early yesterday morning, the United States President Donald Trump reported he and his wife First Lady Melania Trump tested positive for COVID-19. Officials said the Trumps' 14-year-old son Barron tested negative as did First Family and Senior Advisors Jared Kushner and Ivanka Trump.\n",
    "Trump took to social media, posting at 12:54 am local time (0454 UTC) on Twitter, \"Tonight, [Melania] and I tested positive for COVID-19. We will begin our quarantine and recovery process immediately. We will get through this TOGETHER!\" Yesterday afternoon Marine One landed on the White House's South Lawn flying Trump to Walter Reed National Military Medical Center (WRNMMC) in Bethesda, Maryland.\n",
    "Reports said both were showing \"mild symptoms\". Senior administration officials were tested as people were informed of the positive test. Senior advisor Hope Hicks had tested positive on Thursday.\n",
    "Presidential physician Sean Conley issued a statement saying Trump has been given zinc, vitamin D, Pepcid and a daily Aspirin. Conley also gave a single dose of the experimental polyclonal antibodies drug from Regeneron Pharmaceuticals.\n",
    "According to official statements, Trump, now operating from the WRNMMC, is to continue performing his duties as president during a 14-day quarantine. In the event of Trump becoming incapacitated, Vice President Mike Pence could take over the duties of president via the 25th Amendment of the US Constitution. The Pence family all tested negative as of yesterday and there were no changes regarding Pence's campaign events.\n",
    "'''\n",
    "\n",
    "text =  \"headline: \" + article\n",
    "\n",
    "encoding = tokenizer.encode_plus(text, return_tensors = \"pt\")\n",
    "input_ids = encoding[\"input_ids\"].to(device)\n",
    "attention_masks = encoding[\"attention_mask\"].to(device)\n",
    "\n",
    "beam_outputs = model.generate(\n",
    "    input_ids = input_ids,\n",
    "    attention_mask = attention_masks,\n",
    "    max_length = 64,\n",
    "    num_beams = 3,\n",
    "    early_stopping = True,\n",
    ")\n",
    "\n",
    "result = tokenizer.decode(beam_outputs[0])\n",
    "print(result)"
   ]
  },
  {
   "cell_type": "code",
   "execution_count": 32,
   "id": "stock-printing",
   "metadata": {},
   "outputs": [
    {
     "name": "stdout",
     "output_type": "stream",
     "text": [
      "2 Men Convicted of Killing Malcolm X Will Be Exonerated After Decades https://www.nytimes.com/2021/11/17/nyregion/malcolm-x-killing-exonerated.html\n",
      "House, Mostly Along Party Lines, Censures Gosar for Violent Video https://www.nytimes.com/2021/11/17/us/politics/paul-gosar-video.html\n",
      "Does It Matter if I Eat the Stickers on Fruits and Vegetables? https://www.nytimes.com/2021/11/16/well/eat/stickers-fruits-vegetables.html\n",
      "Adele, Dressed for Power https://www.nytimes.com/2021/11/15/style/adele-oprah-white-pantsuit.html\n",
      "Democrats Shouldn’t Panic. They Should Go Into Shock. https://www.nytimes.com/2021/11/17/opinion/democrats-midterms-biden.html\n"
     ]
    },
    {
     "data": {
      "text/plain": [
       "('Does It Matter if I Eat the Stickers on Fruits and Vegetables?',\n",
       " 'https://www.nytimes.com/2021/11/16/well/eat/stickers-fruits-vegetables.html')"
      ]
     },
     "execution_count": 32,
     "metadata": {},
     "output_type": "execute_result"
    }
   ],
   "source": [
    "import requests\n",
    "from random import sample\n",
    "\n",
    "NYTIMES_KEY = 'uy1HSemASbwBaaSskpdSVckRgSLOVKE6'\n",
    "\n",
    "results =  requests.get(f'https://api.nytimes.com/svc/mostpopular/v2/viewed/1.json?api-key={NYTIMES_KEY}').json()['results']\n",
    "\n",
    "for result in results[:5]:\n",
    "    print(result['title'], result['url'])\n",
    "\n",
    "article = results[2]\n",
    "\n",
    "article['title'], article['url']"
   ]
  },
  {
   "cell_type": "code",
   "execution_count": 33,
   "id": "skilled-given",
   "metadata": {},
   "outputs": [],
   "source": [
    "from bs4 import BeautifulSoup\n",
    "\n",
    "article_body = BeautifulSoup(requests.get(article['url']).text).find('section', {'name': 'articleBody'}).text"
   ]
  },
  {
   "cell_type": "code",
   "execution_count": 34,
   "id": "fabulous-tobacco",
   "metadata": {},
   "outputs": [],
   "source": [
    "text =  \"headline: \" + article_body\n",
    "\n",
    "encoding = tokenizer.encode_plus(text, return_tensors = \"pt\")\n",
    "input_ids = encoding[\"input_ids\"]\n",
    "attention_masks = encoding[\"attention_mask\"]\n",
    "\n",
    "beam_outputs = model.generate(\n",
    "    input_ids = input_ids,\n",
    "    attention_mask = attention_masks,\n",
    "    max_length = 64,\n",
    "    num_beams = 3,\n",
    "    early_stopping = True,\n",
    ")\n",
    "\n",
    "result = tokenizer.decode(beam_outputs[0], skip_special_tokens=True)"
   ]
  },
  {
   "cell_type": "code",
   "execution_count": 35,
   "id": "devoted-repository",
   "metadata": {},
   "outputs": [
    {
     "name": "stdout",
     "output_type": "stream",
     "text": [
      "Original Title\n",
      "==============\n",
      " Does It Matter if I Eat the Stickers on Fruits and Vegetables? \n",
      "\n",
      "Generated Title\n",
      "==============\n",
      " Is There Any Health Hazard in Eating Produce Stickers?\n"
     ]
    }
   ],
   "source": [
    "print(\"Original Title\\n==============\\n\", article['title'], \"\\n\\nGenerated Title\\n==============\\n\", result)"
   ]
  },
  {
   "cell_type": "code",
   "execution_count": null,
   "id": "heated-samba",
   "metadata": {},
   "outputs": [],
   "source": []
  }
 ],
 "metadata": {
  "kernelspec": {
   "display_name": "Python 3",
   "language": "python",
   "name": "python3"
  },
  "language_info": {
   "codemirror_mode": {
    "name": "ipython",
    "version": 3
   },
   "file_extension": ".py",
   "mimetype": "text/x-python",
   "name": "python",
   "nbconvert_exporter": "python",
   "pygments_lexer": "ipython3",
   "version": "3.9.7"
  }
 },
 "nbformat": 4,
 "nbformat_minor": 5
}
