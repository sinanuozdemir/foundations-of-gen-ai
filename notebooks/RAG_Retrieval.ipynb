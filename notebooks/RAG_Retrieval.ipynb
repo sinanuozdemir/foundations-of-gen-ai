{
 "cells": [
  {
   "cell_type": "markdown",
   "id": "WaIDlfzUJXjN",
   "metadata": {
    "id": "WaIDlfzUJXjN",
    "jp-MarkdownHeadingCollapsed": true
   },
   "source": [
    "# Putting the R(etrieval) in RAG"
   ]
  },
  {
   "cell_type": "code",
   "execution_count": 2,
   "id": "aLyppGK_hSi6",
   "metadata": {
    "id": "aLyppGK_hSi6"
   },
   "outputs": [
    {
     "name": "stderr",
     "output_type": "stream",
     "text": [
      "/Users/sinanozdemir/Library/Python/3.9/lib/python/site-packages/urllib3/__init__.py:35: NotOpenSSLWarning: urllib3 v2 only supports OpenSSL 1.1.1+, currently the 'ssl' module is compiled with 'LibreSSL 2.8.3'. See: https://github.com/urllib3/urllib3/issues/3020\n",
      "  warnings.warn(\n"
     ]
    }
   ],
   "source": [
    "from openai import OpenAI\n",
    "from pinecone import Pinecone, ServerlessSpec\n",
    "import hashlib\n",
    "import os\n",
    "from datetime import datetime\n",
    "\n",
    "from tqdm import tqdm"
   ]
  },
  {
   "cell_type": "code",
   "execution_count": 3,
   "id": "f0289c54",
   "metadata": {
    "id": "f0289c54"
   },
   "outputs": [],
   "source": [
    "# Retrieve the Pinecone API key from user data\n",
    "pinecone_key = os.environ.get('PINECONE_API_KEY')\n",
    "\n",
    "# Initialize the OpenAI client with the API key from user data\n",
    "client = OpenAI(\n",
    "    api_key=os.environ.get('OPENAI_API_KEY')\n",
    ")\n",
    "\n",
    "# Define constants for the Pinecone index, namespace, and engine\n",
    "ENGINE = 'text-embedding-3-small'  # The embedding model to use (vector size 1,536)\n",
    "\n",
    "# Initialize the Pinecone client with the retrieved API key\n",
    "pc = Pinecone(\n",
    "    api_key=pinecone_key\n",
    ")\n"
   ]
  },
  {
   "cell_type": "code",
   "execution_count": 9,
   "id": "3cf993a3-6d51-49f4-8968-60f654d6202d",
   "metadata": {
    "colab": {
     "base_uri": "https://localhost:8080/"
    },
    "id": "3cf993a3-6d51-49f4-8968-60f654d6202d",
    "outputId": "194a6da8-2de8-4ca8-d616-8cb1381a3154"
   },
   "outputs": [
    {
     "data": {
      "text/plain": [
       "(1536, 2)"
      ]
     },
     "execution_count": 9,
     "metadata": {},
     "output_type": "execute_result"
    }
   ],
   "source": [
    "INDEX_NAME = 'semantic-search-rag'  # The name of the Pinecone index\n",
    "NAMESPACE = 'default'  # The namespace to use within the index\n",
    "\n",
    "# Function to get embeddings for a list of texts using the OpenAI API\n",
    "def get_embeddings(texts, engine=ENGINE):\n",
    "    # Create embeddings for the input texts using the specified engine\n",
    "    response = client.embeddings.create(\n",
    "        input=texts,\n",
    "        model=engine\n",
    "    )\n",
    "\n",
    "    # Extract and return the list of embeddings from the response\n",
    "    return [d.embedding for d in list(response.data)]\n",
    "\n",
    "# Function to get embedding for a single text using the OpenAI API\n",
    "def get_embedding(text, engine=ENGINE):\n",
    "    # Use the get_embeddings function to get the embedding for a single text\n",
    "    return get_embeddings([text], engine)[0]\n",
    "\n",
    "# Test the functions by getting the length of a single embedding and a list of embeddings\n",
    "len(get_embedding('hi')), len(get_embeddings(['hi', 'hello']))"
   ]
  },
  {
   "cell_type": "code",
   "execution_count": 10,
   "id": "ea70672a",
   "metadata": {
    "colab": {
     "base_uri": "https://localhost:8080/"
    },
    "id": "ea70672a",
    "outputId": "07f43e03-87d2-4d8f-b593-f5bb89c211c1"
   },
   "outputs": [
    {
     "data": {
      "text/plain": [
       "<pinecone.data.index.Index at 0x1205e47f0>"
      ]
     },
     "execution_count": 10,
     "metadata": {},
     "output_type": "execute_result"
    }
   ],
   "source": [
    "if INDEX_NAME not in pc.list_indexes().names():  # need to create the index\n",
    "    print(f'Creating index {INDEX_NAME}')\n",
    "    pc.create_index(\n",
    "        name=INDEX_NAME,  # The name of the index\n",
    "        dimension=1536,  # The dimensionality of the vectors for our OpenAI embedder\n",
    "        metric='cosine',  # The similarity metric to use when searching the index\n",
    "        spec=ServerlessSpec(\n",
    "            cloud='aws',\n",
    "            region='us-west-2'\n",
    "        )\n",
    "    )\n",
    "\n",
    "# Store the index as a variable\n",
    "index = pc.Index(name=INDEX_NAME)\n",
    "index"
   ]
  },
  {
   "cell_type": "code",
   "execution_count": 30,
   "id": "227a4dd6-5c3d-40be-ab59-8067f6f0041b",
   "metadata": {},
   "outputs": [
    {
     "data": {
      "text/plain": [
       "{}"
      ]
     },
     "execution_count": 30,
     "metadata": {},
     "output_type": "execute_result"
    }
   ],
   "source": [
    "# index.delete(delete_all=True, namespace=NAMESPACE) # TO delete all vectors, be careful!"
   ]
  },
  {
   "cell_type": "code",
   "execution_count": 32,
   "id": "b6103d6c",
   "metadata": {
    "colab": {
     "base_uri": "https://localhost:8080/"
    },
    "id": "b6103d6c",
    "outputId": "11547a08-9982-4cc9-8b08-ecc27111e1a8"
   },
   "outputs": [
    {
     "data": {
      "text/plain": [
       "{'dimension': 1536,\n",
       " 'index_fullness': 0.0,\n",
       " 'namespaces': {},\n",
       " 'total_vector_count': 0}"
      ]
     },
     "execution_count": 32,
     "metadata": {},
     "output_type": "execute_result"
    }
   ],
   "source": [
    "index.describe_index_stats()"
   ]
  },
  {
   "cell_type": "code",
   "execution_count": 33,
   "id": "7f2fdfe7",
   "metadata": {
    "colab": {
     "base_uri": "https://localhost:8080/",
     "height": 35
    },
    "id": "7f2fdfe7",
    "outputId": "c2656ea0-6fca-4907-fa2e-b46e122e72a6"
   },
   "outputs": [
    {
     "data": {
      "text/plain": [
       "'ae76cc4dfd345ecaeea9b8ba0d5c3437'"
      ]
     },
     "execution_count": 33,
     "metadata": {},
     "output_type": "execute_result"
    }
   ],
   "source": [
    "def my_hash(s):\n",
    "    # Return the MD5 hash of the input string as a hexadecimal string\n",
    "    return hashlib.md5(s.encode()).hexdigest()\n",
    "\n",
    "my_hash('I love to hash it')"
   ]
  },
  {
   "cell_type": "code",
   "execution_count": 34,
   "id": "ecd86f51",
   "metadata": {
    "id": "ecd86f51"
   },
   "outputs": [],
   "source": [
    "def prepare_for_pinecone(texts, engine=ENGINE, urls=None):\n",
    "    # Get the current UTC date and time\n",
    "    now = datetime.utcnow()\n",
    "\n",
    "    # Generate vector embeddings for each string in the input list, using the specified engine\n",
    "    embeddings = get_embeddings(texts, engine=engine)\n",
    "\n",
    "    # Create tuples of (hash, embedding, metadata) for each input string and its corresponding vector embedding\n",
    "    # The my_hash() function is used to generate a unique hash for each string, and the datetime.utcnow() function is used to generate the current UTC date and time\n",
    "    responses = [\n",
    "        (\n",
    "            my_hash(text),  # A unique ID for each string, generated using the my_hash() function\n",
    "            embedding,  # The vector embedding of the string\n",
    "            dict(text=text, date_uploaded=now)  # A dictionary of metadata, including the original text and the current UTC date and time\n",
    "        )\n",
    "        for text, embedding in zip(texts, embeddings)  # Iterate over each input string and its corresponding vector embedding\n",
    "    ]\n",
    "    if urls and len(urls) == len(texts):\n",
    "        for response, url in zip(responses, urls):\n",
    "            response[-1]['url'] = url\n",
    "\n",
    "    return responses\n"
   ]
  },
  {
   "cell_type": "code",
   "execution_count": 35,
   "id": "4c40d99a",
   "metadata": {
    "id": "4c40d99a"
   },
   "outputs": [],
   "source": [
    "texts = ['hi']"
   ]
  },
  {
   "cell_type": "code",
   "execution_count": 36,
   "id": "3e1b73f3",
   "metadata": {
    "colab": {
     "base_uri": "https://localhost:8080/"
    },
    "id": "3e1b73f3",
    "outputId": "9098032f-8b27-48c8-99cc-2500d2eec532"
   },
   "outputs": [
    {
     "name": "stdout",
     "output_type": "stream",
     "text": [
      "ID:   49f68a5c8493ec2c0bf489821c21fc3b \n",
      "LEN:  1536 \n",
      "META: {'text': 'hi', 'date_uploaded': datetime.datetime(2024, 7, 24, 14, 43, 14, 172026)}\n"
     ]
    }
   ],
   "source": [
    "_id, embedding, metadata = prepare_for_pinecone(texts)[0]\n",
    "\n",
    "print('ID:  ',_id, '\\nLEN: ', len(embedding), '\\nMETA:', metadata)"
   ]
  },
  {
   "cell_type": "code",
   "execution_count": 37,
   "id": "b49debd5",
   "metadata": {
    "colab": {
     "base_uri": "https://localhost:8080/"
    },
    "id": "b49debd5",
    "outputId": "4188bdb8-99d1-4537-891c-d8b52882ebe9"
   },
   "outputs": [
    {
     "name": "stdout",
     "output_type": "stream",
     "text": [
      "ID:   49f68a5c8493ec2c0bf489821c21fc3b \n",
      "LEN:  1536 \n",
      "META: {'text': 'hi', 'date_uploaded': datetime.datetime(2024, 7, 24, 14, 43, 14, 614873), 'url': 'fake.url'}\n"
     ]
    }
   ],
   "source": [
    "urls = ['fake.url']\n",
    "_id, embedding, metadata = prepare_for_pinecone(texts, urls=urls)[0]\n",
    "\n",
    "print('ID:  ',_id, '\\nLEN: ', len(embedding), '\\nMETA:', metadata)"
   ]
  },
  {
   "cell_type": "code",
   "execution_count": 38,
   "id": "bf47aabd",
   "metadata": {
    "id": "bf47aabd"
   },
   "outputs": [],
   "source": [
    "def upload_texts_to_pinecone(texts, namespace=NAMESPACE, batch_size=None, show_progress_bar=False, urls=None):\n",
    "    # Call the prepare_for_pinecone function to prepare the input texts for indexing\n",
    "    total_upserted = 0\n",
    "    if not batch_size:\n",
    "        batch_size = len(texts)\n",
    "\n",
    "    _range = range(0, len(texts), batch_size)\n",
    "    for i in tqdm(_range) if show_progress_bar else _range:\n",
    "        text_batch = texts[i: i + batch_size]\n",
    "        if urls:\n",
    "            url_batch = urls[i: i + batch_size]\n",
    "            prepared_texts = prepare_for_pinecone(text_batch, urls=url_batch)\n",
    "        else:\n",
    "            prepared_texts = prepare_for_pinecone(text_batch)\n",
    "\n",
    "\n",
    "        # Use the upsert() method of the index object to upload the prepared texts to Pinecone\n",
    "        total_upserted += index.upsert(\n",
    "            vectors=prepared_texts,\n",
    "            namespace=namespace\n",
    "        )['upserted_count']\n",
    "\n",
    "\n",
    "    return total_upserted"
   ]
  },
  {
   "cell_type": "code",
   "execution_count": 40,
   "id": "b65cb2e1-f67d-4606-b0ff-c7b67aab04d8",
   "metadata": {
    "colab": {
     "base_uri": "https://localhost:8080/"
    },
    "id": "b65cb2e1-f67d-4606-b0ff-c7b67aab04d8",
    "outputId": "b14cdb39-45a3-47a0-83f8-c3fba92fb0b0"
   },
   "outputs": [
    {
     "data": {
      "text/plain": [
       "{'dimension': 1536,\n",
       " 'index_fullness': 0.0,\n",
       " 'namespaces': {'default': {'vector_count': 1}},\n",
       " 'total_vector_count': 1}"
      ]
     },
     "execution_count": 40,
     "metadata": {},
     "output_type": "execute_result"
    }
   ],
   "source": [
    "# Call the upload_texts_to_pinecone() function with the input texts\n",
    "upload_texts_to_pinecone(texts)\n",
    "\n",
    "index.describe_index_stats()"
   ]
  },
  {
   "cell_type": "code",
   "execution_count": 42,
   "id": "V0XI6RAom-Ln",
   "metadata": {
    "id": "V0XI6RAom-Ln"
   },
   "outputs": [],
   "source": [
    "def query_from_pinecone(query, top_k=3, include_metadata=True):\n",
    "    # get embedding from THE SAME embedder as the documents\n",
    "    query_embedding = get_embedding(query, engine=ENGINE)\n",
    "\n",
    "    return index.query(\n",
    "      vector=query_embedding,\n",
    "      top_k=top_k,\n",
    "      namespace=NAMESPACE,\n",
    "      include_metadata=include_metadata   # gets the metadata (dates, text, etc)\n",
    "    ).get('matches')"
   ]
  },
  {
   "cell_type": "code",
   "execution_count": 43,
   "id": "84a0871f",
   "metadata": {
    "colab": {
     "base_uri": "https://localhost:8080/"
    },
    "id": "84a0871f",
    "outputId": "df6cb931-9cbc-4d53-aa80-5fddfb9cd94a"
   },
   "outputs": [
    {
     "data": {
      "text/plain": [
       "[{'id': '49f68a5c8493ec2c0bf489821c21fc3b',\n",
       "  'metadata': {'date_uploaded': '2024-07-24T14:43:19.097262', 'text': 'hi'},\n",
       "  'score': 0.80858922,\n",
       "  'values': []}]"
      ]
     },
     "execution_count": 43,
     "metadata": {},
     "output_type": "execute_result"
    }
   ],
   "source": [
    "# test that the index has a vector\n",
    "query_from_pinecone('hello')"
   ]
  },
  {
   "cell_type": "code",
   "execution_count": 44,
   "id": "13cc8bdc",
   "metadata": {
    "colab": {
     "base_uri": "https://localhost:8080/"
    },
    "id": "13cc8bdc",
    "outputId": "0b5c5582-32f8-4fcc-8aca-e9ac68e7c802"
   },
   "outputs": [
    {
     "data": {
      "text/plain": [
       "{}"
      ]
     },
     "execution_count": 44,
     "metadata": {},
     "output_type": "execute_result"
    }
   ],
   "source": [
    "import hashlib\n",
    "\n",
    "def delete_texts_from_pinecone(texts, namespace=NAMESPACE):\n",
    "    # Compute the hash (id) for each text\n",
    "    hashes = [hashlib.md5(text.encode()).hexdigest() for text in texts]\n",
    "\n",
    "    # The ids parameter is used to specify the list of IDs (hashes) to delete\n",
    "    return index.delete(ids=hashes, namespace=namespace)\n",
    "\n",
    "# delete our text\n",
    "delete_texts_from_pinecone(texts)\n"
   ]
  },
  {
   "cell_type": "code",
   "execution_count": 45,
   "id": "074fab6f",
   "metadata": {
    "colab": {
     "base_uri": "https://localhost:8080/"
    },
    "id": "074fab6f",
    "outputId": "e9086e2b-48dc-4848-9d15-7720033cd2d1"
   },
   "outputs": [
    {
     "data": {
      "text/plain": [
       "{'dimension': 1536,\n",
       " 'index_fullness': 0.0,\n",
       " 'namespaces': {},\n",
       " 'total_vector_count': 0}"
      ]
     },
     "execution_count": 45,
     "metadata": {},
     "output_type": "execute_result"
    }
   ],
   "source": [
    "index.describe_index_stats()"
   ]
  },
  {
   "cell_type": "markdown",
   "id": "6d6bc9a0-786d-4f61-bd73-dcb7a85a3ec5",
   "metadata": {
    "jp-MarkdownHeadingCollapsed": true
   },
   "source": [
    "# \"Borrowing\" Government Data"
   ]
  },
  {
   "cell_type": "code",
   "execution_count": 71,
   "id": "4523cab6-0bc3-4791-9c73-7bd7d7e5858b",
   "metadata": {
    "colab": {
     "base_uri": "https://localhost:8080/"
    },
    "id": "4523cab6-0bc3-4791-9c73-7bd7d7e5858b",
    "outputId": "e1241529-5887-491e-831a-d0b1e473d1cc"
   },
   "outputs": [
    {
     "name": "stdout",
     "output_type": "stream",
     "text": [
      "https://faq.ssa.gov/en-US/topic?id=CAT-01092\n"
     ]
    }
   ],
   "source": [
    "base_url = 'https://faq.ssa.gov'\n",
    "medicare_faqs = base_url + '/en-US/topic?id=CAT-01092'\n",
    "print(medicare_faqs)"
   ]
  },
  {
   "cell_type": "code",
   "execution_count": 64,
   "id": "4a93f431-3e6e-4301-8774-02a6943c310e",
   "metadata": {},
   "outputs": [
    {
     "data": {
      "text/plain": [
       "19"
      ]
     },
     "execution_count": 64,
     "metadata": {},
     "output_type": "execute_result"
    }
   ],
   "source": [
    "def find_links_with_pattern(url, pattern):\n",
    "    # Send a GET request to the URL\n",
    "    response = requests.get(url)\n",
    "    \n",
    "    # Create a BeautifulSoup object\n",
    "    soup = BeautifulSoup(response.text, 'html.parser')\n",
    "    \n",
    "    # Compile the regex pattern\n",
    "    regex = re.compile(pattern)\n",
    "    \n",
    "    # Find all 'a' tags with href attribute matching the pattern\n",
    "    links = soup.find_all('a', href=regex)\n",
    "    \n",
    "    # Extract and return the href values\n",
    "    return [link.get('href') for link in links]\n",
    "\n",
    "# Example usage\n",
    "pattern = r'^/en-US'\n",
    "\n",
    "matching_links = find_links_with_pattern(base_url, pattern)\n",
    "len(matching_links)"
   ]
  },
  {
   "cell_type": "code",
   "execution_count": 67,
   "id": "6173f5e5-aa3d-40e8-aa27-97bf6af4a177",
   "metadata": {},
   "outputs": [
    {
     "name": "stderr",
     "output_type": "stream",
     "text": [
      "100%|████████████████████████████████████████████████████████████████████████| 19/19 [00:30<00:00,  1.63s/it]\n"
     ]
    },
    {
     "data": {
      "text/plain": [
       "112"
      ]
     },
     "execution_count": 67,
     "metadata": {},
     "output_type": "execute_result"
    }
   ],
   "source": [
    "urls = []\n",
    "\n",
    "from bs4 import BeautifulSoup\n",
    "import requests\n",
    "\n",
    "for matching_link in tqdm(matching_links):\n",
    "    r = requests.get(base_url + matching_link)\n",
    "    soup = BeautifulSoup(r.content, 'html.parser')\n",
    "    for link in soup.find_all('a'):\n",
    "        if 'href' in link.attrs:\n",
    "            if link['href'].startswith('/') and 'article' in link['href']:\n",
    "                urls.append(base_url + link['href'])\n",
    "    \n",
    "urls = list(set([u.lower().strip() for u in urls]))\n",
    "len(urls)"
   ]
  },
  {
   "cell_type": "code",
   "execution_count": 72,
   "id": "47fa962a-1fb8-49c5-a4a5-fd21484baa7d",
   "metadata": {},
   "outputs": [
    {
     "data": {
      "text/plain": [
       "'https://faq.ssa.gov/en-us/topic/article/ka-03151'"
      ]
     },
     "execution_count": 72,
     "metadata": {},
     "output_type": "execute_result"
    }
   ],
   "source": [
    "urls[0]"
   ]
  },
  {
   "cell_type": "code",
   "execution_count": 68,
   "id": "a304bec1-2fff-4d82-81ed-bb3147d30b5c",
   "metadata": {},
   "outputs": [],
   "source": [
    "import re\n",
    "\n",
    "def clean_string(text):  # courtesy of Claude 3.5 Sonnet\n",
    "    # Remove extra whitespace, including newlines\n",
    "    text = re.sub(r'\\s+', ' ', text)\n",
    "    # Remove any leading/trailing whitespace\n",
    "    text = text.strip()\n",
    "    # Remove common filler phrases\n",
    "    filler_phrases = [\n",
    "        \"Skip to content\", \"Skip to main content\", \"Menu\", \"Sign in\", \"Print\", \"Views:\", \"Comments \\(0\\)\",\n",
    "        \"Footer menu\", \"Give us Feedback.\", \"Did this answer your question?\", \"No Yes No\", \"Thanks for your feedback.\"\n",
    "    ]\n",
    "    for phrase in filler_phrases:\n",
    "        text = re.sub(phrase, '', text, flags=re.IGNORECASE)\n",
    "    # Remove any remaining brackets and their contents\n",
    "    text = re.sub(r'\\[.*?\\]', '', text)\n",
    "    # Remove any remaining parentheses and their contents\n",
    "    text = re.sub(r'\\(.*?\\)', '', text)\n",
    "    # Remove any URLs\n",
    "    text = re.sub(r'http\\S+', '', text)\n",
    "    # Remove any remaining special characters\n",
    "    text = re.sub(r'[^\\w\\s\\.\\,\\?\\!]', '', text)\n",
    "    # Remove extra spaces that may have been created\n",
    "    text = re.sub(r'\\s+', ' ', text).strip()\n",
    "    return text"
   ]
  },
  {
   "cell_type": "code",
   "execution_count": 73,
   "id": "e622fbfa-2dde-4711-9c46-1390eb3430f9",
   "metadata": {
    "colab": {
     "base_uri": "https://localhost:8080/",
     "height": 196
    },
    "id": "e622fbfa-2dde-4711-9c46-1390eb3430f9",
    "outputId": "3f4b6ad7-bb23-4d9f-a99f-11f328adad1a"
   },
   "outputs": [
    {
     "name": "stderr",
     "output_type": "stream",
     "text": [
      "100%|██████████████████████████████████████████████████████████████████████| 112/112 [02:50<00:00,  1.52s/it]\n"
     ]
    }
   ],
   "source": [
    "import requests\n",
    "\n",
    "government_docs = []\n",
    "for url in tqdm(urls):\n",
    "    r = requests.get(url)\n",
    "    soup = BeautifulSoup(r.content, 'html.parser')\n",
    "    body = clean_string(soup.find('body').get_text())\n",
    "    government_docs.append(dict(text=body, url=url))"
   ]
  },
  {
   "cell_type": "code",
   "execution_count": 74,
   "id": "6e1cbf70-3eef-4dc5-a337-740cfcb007ee",
   "metadata": {},
   "outputs": [
    {
     "data": {
      "text/plain": [
       "{'text': 'Youre offline. This is a read only version of the page. Upcoming account changes Switch to Login.gov or ID.me for . Upcoming account changes Switch to Login.gov or ID.me for . Social Security Search Español Frequently Asked Questions FAQ Home Topics KA03151 Can I request a replacement card online if I am a naturalized citizen? Yes. If you are a naturalized citizen, you can request a replacement card online. However, Social Security must already have your citizenship verified and on file. Open a my Social Security account today. Footer ?',\n",
       " 'url': 'https://faq.ssa.gov/en-us/topic/article/ka-03151'}"
      ]
     },
     "execution_count": 74,
     "metadata": {},
     "output_type": "execute_result"
    }
   ],
   "source": [
    "government_docs[0]"
   ]
  },
  {
   "cell_type": "code",
   "execution_count": 75,
   "id": "f6578099-32f7-477a-bf2d-1b3c625540d8",
   "metadata": {},
   "outputs": [
    {
     "data": {
      "text/plain": [
       "{'text': 'Youre offline. This is a read only version of the page. Upcoming account changes Switch to Login.gov or ID.me for . Upcoming account changes Switch to Login.gov or ID.me for . Social Security Search Español Frequently Asked Questions FAQ Home Topics KA10045 What is the Disability Update Report and can I complete it online? The Disability Update Report is part of our Continuing Disability Review process, which is required by law. We periodically review your case to determine if you continue to meet the eligibility rules to receive disability benefits. We mail the Disability Update Report, or Form SSA455, to disabled beneficiaries to obtain updated information about their medical conditions and recent treatments. You also have the option to complete the SSA455 online. Keywords Online Services, SSI, SSDI, Disability Footer ?',\n",
       " 'url': 'https://faq.ssa.gov/en-us/topic/article/ka-10045'}"
      ]
     },
     "execution_count": 75,
     "metadata": {},
     "output_type": "execute_result"
    }
   ],
   "source": [
    "government_docs[-1]"
   ]
  },
  {
   "cell_type": "code",
   "execution_count": 78,
   "id": "0221343a",
   "metadata": {
    "colab": {
     "base_uri": "https://localhost:8080/"
    },
    "id": "0221343a",
    "outputId": "72953aba-424b-4756-ea73-f5592ae7d7dd"
   },
   "outputs": [
    {
     "name": "stderr",
     "output_type": "stream",
     "text": [
      "100%|██████████████████████████████████████████████████████████████████████████| 7/7 [00:05<00:00,  1.32it/s]\n"
     ]
    },
    {
     "data": {
      "text/plain": [
       "112"
      ]
     },
     "execution_count": 78,
     "metadata": {},
     "output_type": "execute_result"
    }
   ],
   "source": [
    "BATCH_SIZE = 16\n",
    "upload_texts_to_pinecone(\n",
    "    texts=[g['text'] for g in government_docs],\n",
    "    batch_size=BATCH_SIZE, show_progress_bar=True, \n",
    "    urls=[g['url'] for g in government_docs]\n",
    ")"
   ]
  },
  {
   "cell_type": "code",
   "execution_count": 89,
   "id": "33yf7QrWtwt-",
   "metadata": {
    "colab": {
     "base_uri": "https://localhost:8080/"
    },
    "id": "33yf7QrWtwt-",
    "outputId": "5ec56246-4d35-44bb-b958-00117ca150ee"
   },
   "outputs": [
    {
     "data": {
      "text/plain": [
       "{'dimension': 1536,\n",
       " 'index_fullness': 0.0,\n",
       " 'namespaces': {'default': {'vector_count': 112}},\n",
       " 'total_vector_count': 112}"
      ]
     },
     "execution_count": 89,
     "metadata": {},
     "output_type": "execute_result"
    }
   ],
   "source": [
    "index.describe_index_stats()"
   ]
  },
  {
   "cell_type": "code",
   "execution_count": 729,
   "id": "gQdFZg1b0-eH",
   "metadata": {
    "colab": {
     "base_uri": "https://localhost:8080/"
    },
    "id": "gQdFZg1b0-eH",
    "outputId": "821a37b1-d063-49e9-9134-4fe591bc5ab3"
   },
   "outputs": [
    {
     "name": "stdout",
     "output_type": "stream",
     "text": [
      "https://faq.ssa.gov/en-us/topic/article/ka-01735 0.673342  replacement card to be sent in the mail. Footer ?\n",
      "https://faq.ssa.gov/en-us/topic/article/ka-02113 0.506692469 icare Medicaid Services Medicare Benefits Footer ?\n",
      "https://faq.ssa.gov/en-us/topic/article/ka-02017 0.499175638 How do I get a replacement Medicare card? Footer ?\n",
      "https://faq.ssa.gov/en-us/topic/article/ka-02137 0.494447559 elp you apply. For more information see . Footer ?\n",
      "https://faq.ssa.gov/en-us/topic/article/ka-02125 0.490269929 nformation read our Medicare publication. Footer ?\n",
      "https://faq.ssa.gov/en-us/topic/article/ka-02989 0.486195683 t are Medicare late enrollment penalties? Footer ?\n",
      "https://faq.ssa.gov/en-us/topic/article/ka-02131 0.482353777 rmation go to our Medicare Benefits page. Footer ?\n",
      "https://faq.ssa.gov/en-us/topic/article/ka-02713 0.482147753 go to the How to drop Part A Part B page. Footer ?\n",
      "https://faq.ssa.gov/en-us/topic/article/ka-02995 0.475126356 programMedicare.gov Handbook Medicare You Footer ?\n",
      "https://faq.ssa.gov/en-us/topic/article/ka-02639 0.46295619 Need To Know About Misleading Advertising Footer ?\n"
     ]
    }
   ],
   "source": [
    "query = 'I lost my medicare card'\n",
    "\n",
    "results = query_from_pinecone(query, top_k=10)\n",
    "for result in results:\n",
    "    print(result['metadata']['url'], result['score'], result['metadata']['text'][-50:])"
   ]
  },
  {
   "cell_type": "markdown",
   "id": "8b826dee-5847-4d18-83dd-69eaa27f7016",
   "metadata": {
    "jp-MarkdownHeadingCollapsed": true
   },
   "source": [
    "# Using Open Source Embedders"
   ]
  },
  {
   "cell_type": "code",
   "execution_count": 4,
   "id": "84ecc06c-7514-4785-ad00-13c537141470",
   "metadata": {},
   "outputs": [
    {
     "name": "stderr",
     "output_type": "stream",
     "text": [
      "/Users/sinanozdemir/Library/Python/3.9/lib/python/site-packages/transformers/tokenization_utils_base.py:1601: FutureWarning: `clean_up_tokenization_spaces` was not set. It will be set to `True` by default. This behavior will be depracted in transformers v4.45, and will be then set to `False` by default. For more details check this issue: https://github.com/huggingface/transformers/issues/31884\n",
      "  warnings.warn(\n"
     ]
    },
    {
     "data": {
      "text/plain": [
       "(3, 384)"
      ]
     },
     "execution_count": 4,
     "metadata": {},
     "output_type": "execute_result"
    }
   ],
   "source": [
    "from sentence_transformers import SentenceTransformer, util\n",
    "\n",
    "open_source_embedder = SentenceTransformer('all-MiniLM-L6-v2')\n",
    "\n",
    "open_source_embedder.encode(['hi', 'hello', 'sup']).shape\n",
    "\n",
    "# It's that easy! The hard part is evaluating them :)"
   ]
  },
  {
   "cell_type": "code",
   "execution_count": 5,
   "id": "0e494432-6128-4d88-b3fe-ceea46752045",
   "metadata": {},
   "outputs": [
    {
     "data": {
      "text/plain": [
       "SentenceTransformer(\n",
       "  (0): Transformer({'max_seq_length': 256, 'do_lower_case': False}) with Transformer model: BertModel \n",
       "  (1): Pooling({'word_embedding_dimension': 384, 'pooling_mode_cls_token': False, 'pooling_mode_mean_tokens': True, 'pooling_mode_max_tokens': False, 'pooling_mode_mean_sqrt_len_tokens': False, 'pooling_mode_weightedmean_tokens': False, 'pooling_mode_lasttoken': False, 'include_prompt': True})\n",
       "  (2): Normalize()\n",
       ")"
      ]
     },
     "execution_count": 5,
     "metadata": {},
     "output_type": "execute_result"
    }
   ],
   "source": [
    "open_source_embedder"
   ]
  },
  {
   "cell_type": "markdown",
   "id": "1f3afe98-971c-4601-af23-e0aa848fc3c1",
   "metadata": {
    "jp-MarkdownHeadingCollapsed": true
   },
   "source": [
    "# Synthetic Test Data Generation"
   ]
  },
  {
   "cell_type": "code",
   "execution_count": 662,
   "id": "5d79c317-f608-47d5-8418-b3ad95c95524",
   "metadata": {},
   "outputs": [],
   "source": [
    "synthetic_data_prompt = '''I am designing a chatbot to use this document as information to our users.\n",
    "\n",
    "Please write 10 questions that an average person not educated in this social security system might ask that can definitely be answered using information using the provided document.\n",
    "\n",
    "Try to ask in a way that's confusing to really test our system's knowledge but still fair.\n",
    "\n",
    "I need 5 in English, 2 in Spanish, 2 in Chinese, and 1 in French in that order.\n",
    "\n",
    "Use this format to output:\n",
    "Document: A given document to make questions from\n",
    "JSON: [\"english question 1\", \"english question 2\", \"english question 3\", ...  \"spanish question 1\", \"spanish question 2\", ..., \"french question 1\"]\n",
    "###\n",
    "Document: {document}\n",
    "JSON:'''\n",
    "\n",
    "response = client.chat.completions.create(\n",
    "    model='gpt-4o',\n",
    "    messages=[{\"role\": \"user\", \"content\": synthetic_data_prompt.format(document=government_docs[1]['text'])}],\n",
    "    temperature=1\n",
    ")"
   ]
  },
  {
   "cell_type": "code",
   "execution_count": 664,
   "id": "81ae5fd5-9289-4580-83e5-13e2436cd2af",
   "metadata": {},
   "outputs": [],
   "source": [
    "languages = ['english']*5+['spanish']*2+['chinese']*2 + ['french'] * 1"
   ]
  },
  {
   "cell_type": "code",
   "execution_count": 678,
   "id": "834d8d50-529a-4802-b1a2-b03c3616178c",
   "metadata": {},
   "outputs": [
    {
     "data": {
      "text/plain": [
       "[('english',\n",
       "  'How do I start the process for getting disability benefits from Social Security?'),\n",
       " ('english',\n",
       "  \"Can I apply for Social Security disability benefits if I don't live in the US?\"),\n",
       " ('english',\n",
       "  'What alternative ways are there to apply for Social Security disability benefits besides online?'),\n",
       " ('english',\n",
       "  'What time can I call Social Security for disability application assistance?'),\n",
       " ('english',\n",
       "  'Where can I find more information about disability benefits on the Social Security website?'),\n",
       " ('spanish', '¿Cómo solicito beneficios por discapacidad del Seguro Social?'),\n",
       " ('spanish',\n",
       "  '¿Dónde debo acudir si no vivo en Estados Unidos pero quiero recibir beneficios del Seguro Social?'),\n",
       " ('chinese', '我不在美国居住，我可以申请社会保障残疾福利吗？'),\n",
       " ('chinese', '我要如何联系当地的社会保障办公室申请残疾福利？'),\n",
       " ('french',\n",
       "  \"Comment puis-je contacter mon bureau de sécurité sociale local pour des prestations d'invalidité?\")]"
      ]
     },
     "execution_count": 678,
     "metadata": {},
     "output_type": "execute_result"
    }
   ],
   "source": [
    "import json\n",
    "\n",
    "list(zip(\n",
    "    languages,\n",
    "    json.loads('[' + response.choices[0].message.content.split('[')[-1].strip().split(']')[0].strip() + ']')\n",
    "))"
   ]
  },
  {
   "cell_type": "code",
   "execution_count": 704,
   "id": "4f42896b-f85f-42e6-93e1-e3d5421e89ea",
   "metadata": {},
   "outputs": [
    {
     "name": "stderr",
     "output_type": "stream",
     "text": [
      "100%|████████████████████████████████████████████████████████████████████████| 22/22 [01:27<00:00,  3.99s/it]\n"
     ]
    }
   ],
   "source": [
    "synthetic_questions = []\n",
    "from random import sample\n",
    "\n",
    "# generate synthetic test data for a sample  of the urls found\n",
    "SAMPLE = .2\n",
    "for i, government_doc in enumerate(tqdm(sample(government_docs, int(len(government_docs) * SAMPLE)))):\n",
    "        \n",
    "    response = client.chat.completions.create(\n",
    "        model='gpt-4o',\n",
    "        messages=[{\"role\": \"user\", \"content\": synthetic_data_prompt.format(document=government_doc['text'])}],\n",
    "        temperature=1\n",
    "    )\n",
    "    try:\n",
    "        questions = json.loads('[' + response.choices[0].message.content.split('[')[-1].strip().split(']')[0].strip() + ']')\n",
    "        questions = [q.strip() for q in questions]\n",
    "        assert len(questions) == len(languages)\n",
    "        for language, question in zip(languages, questions):\n",
    "            synthetic_questions.append(\n",
    "            dict(\n",
    "                language=language, \n",
    "                query=question, \n",
    "                expected_hash=my_hash(government_doc['text'])\n",
    "            )\n",
    "        )\n",
    "    except Exception as e:\n",
    "        print(f'Could not generate questions for index {i}: {e}')\n",
    "    "
   ]
  },
  {
   "cell_type": "code",
   "execution_count": 705,
   "id": "26687497-ac29-4f10-9ec8-2839093a7fe6",
   "metadata": {},
   "outputs": [
    {
     "data": {
      "text/plain": [
       "220"
      ]
     },
     "execution_count": 705,
     "metadata": {},
     "output_type": "execute_result"
    }
   ],
   "source": [
    "len(synthetic_questions)"
   ]
  },
  {
   "cell_type": "code",
   "execution_count": 706,
   "id": "88fac61f-8928-471d-89b5-a013581a489a",
   "metadata": {},
   "outputs": [
    {
     "data": {
      "text/plain": [
       "{'language': 'english',\n",
       " 'query': \"If I'm already getting Social Security benefits, do I need to sign up for Medicare?\",\n",
       " 'expected_hash': '3eff3f7809e71e9c0c7c6827769e4220'}"
      ]
     },
     "execution_count": 706,
     "metadata": {},
     "output_type": "execute_result"
    }
   ],
   "source": [
    "synthetic_questions[0]"
   ]
  },
  {
   "cell_type": "code",
   "execution_count": 707,
   "id": "9785cd9f-1389-4c3d-8cf1-6a9ce7728d0d",
   "metadata": {},
   "outputs": [],
   "source": [
    "def test_query(query, expected_hash, language, top_k=10):\n",
    "        \n",
    "    results = query_from_pinecone(query, top_k=top_k)\n",
    "    top_result_correct = results[0]['id'] == expected_hash  # accuracy\n",
    "    result_in_pinecone_list = expected_hash in (r['id'] for r in results)  # Recall@top_k (10, etc)\n",
    "    return dict(\n",
    "        result_in_pinecone_list=result_in_pinecone_list, top_result_correct=top_result_correct,\n",
    "        language=language, expected_hash=expected_hash, top_hash=results[0]['id']\n",
    "    )"
   ]
  },
  {
   "cell_type": "code",
   "execution_count": 708,
   "id": "560bae36-c4d0-4b7a-9a63-55d7d2adcefd",
   "metadata": {},
   "outputs": [
    {
     "data": {
      "text/plain": [
       "{'result_in_pinecone_list': True,\n",
       " 'top_result_correct': True,\n",
       " 'language': 'english',\n",
       " 'expected_hash': '3eff3f7809e71e9c0c7c6827769e4220',\n",
       " 'top_hash': '3eff3f7809e71e9c0c7c6827769e4220'}"
      ]
     },
     "execution_count": 708,
     "metadata": {},
     "output_type": "execute_result"
    }
   ],
   "source": [
    "test_query(**synthetic_questions[0])"
   ]
  },
  {
   "cell_type": "code",
   "execution_count": 709,
   "id": "4f8d6940-178b-49de-9ea4-ed741aabaa27",
   "metadata": {},
   "outputs": [
    {
     "name": "stderr",
     "output_type": "stream",
     "text": [
      "100%|██████████████████████████████████████████████████████████████████████| 220/220 [01:02<00:00,  3.49it/s]\n"
     ]
    }
   ],
   "source": [
    "synthetic_test_results = []\n",
    "for synthetic_question in tqdm(synthetic_questions):\n",
    "    synthetic_test_results.append(test_query(**synthetic_question))"
   ]
  },
  {
   "cell_type": "code",
   "execution_count": null,
   "id": "0ebe35e8-802b-48cb-b6dd-8f7312a2d30a",
   "metadata": {},
   "outputs": [],
   "source": []
  },
  {
   "cell_type": "code",
   "execution_count": 710,
   "id": "6034ec5e-0488-44e7-bcca-670acb45d159",
   "metadata": {},
   "outputs": [
    {
     "name": "stdout",
     "output_type": "stream",
     "text": [
      "result_in_pinecone_list    0.981818\n",
      "top_result_correct         0.836364\n",
      "dtype: float64\n"
     ]
    },
    {
     "data": {
      "image/png": "[encoded data removed]",
      "text/plain": [
       "<Figure size 1200x600 with 1 Axes>"
      ]
     },
     "metadata": {},
     "output_type": "display_data"
    }
   ],
   "source": [
    "import pandas as pd\n",
    "results_df = pd.DataFrame(synthetic_test_results)\n",
    "\n",
    "print(results_df[['result_in_pinecone_list', 'top_result_correct']].mean())\n",
    "\n",
    "import matplotlib.pyplot as plt\n",
    "\n",
    "# Assuming you've already created results_df\n",
    "grouped_data = results_df.groupby('language')[['result_in_pinecone_list', 'top_result_correct']].mean()\n",
    "\n",
    "# Set the style and color palette\n",
    "plt.style.use('fivethirtyeight')\n",
    "# sns.set_palette(\"deep\")\n",
    "\n",
    "# Create the figure and axis\n",
    "fig, ax = plt.subplots(figsize=(12, 6))\n",
    "\n",
    "# Plot the data\n",
    "grouped_data.plot(kind='bar', ax=ax)\n",
    "\n",
    "# Customize the plot\n",
    "ax.set_title('Performance Metrics by Language (OpenAI only)', fontsize=16, pad=20)\n",
    "ax.set_xlabel('Language', fontsize=12)\n",
    "ax.set_ylabel('Mean Score', fontsize=12)\n",
    "ax.tick_params(axis='x', rotation=45)\n",
    "\n",
    "# Add value labels on top of each bar\n",
    "for i in ax.containers:\n",
    "    ax.bar_label(i, fmt='%.2f', padding=3)\n",
    "\n",
    "# Add a legend\n",
    "ax.legend(['Result in Pinecone List', 'Top Result Correct'], title='Metrics', loc='upper left', bbox_to_anchor=(1, 1))\n",
    "\n",
    "# Adjust layout and display the plot\n",
    "plt.tight_layout()\n",
    "plt.show()"
   ]
  },
  {
   "cell_type": "markdown",
   "id": "f1af302f-be9b-4a3f-8072-d59fc7a8dee4",
   "metadata": {
    "jp-MarkdownHeadingCollapsed": true
   },
   "source": [
    "# Making Retrieval Better with [Cohere](cohere.com/rerank)'s Re-Rank\n",
    "\n",
    "\n",
    "\"Rerank provides a powerful semantic boost to the search quality of any keyword or vector search system without requiring any overhaul or replacement.\""
   ]
  },
  {
   "cell_type": "code",
   "execution_count": 6,
   "id": "56ddac29-f170-46e6-b780-b98d1cc9afa1",
   "metadata": {},
   "outputs": [],
   "source": [
    "import cohere\n",
    "\n",
    "co = cohere.Client(os.environ.get('COHERE_API_KEY'))"
   ]
  },
  {
   "cell_type": "code",
   "execution_count": 7,
   "id": "6346cd29-ff4f-4d13-8556-dd5d530491d0",
   "metadata": {},
   "outputs": [
    {
     "data": {
      "text/plain": [
       "'Washington, D.C. (also known as simply Washington or D.C., and officially as the District of Columbia) is the capital of the United States. It is a federal district.'"
      ]
     },
     "execution_count": 7,
     "metadata": {},
     "output_type": "execute_result"
    }
   ],
   "source": [
    "docs = [\n",
    "    \"Carson City is the capital city of the American state of Nevada.\",\n",
    "    \"The Commonwealth of the Northern Mariana Islands is a group of islands in the Pacific Ocean. Its capital is Saipan.\",\n",
    "    \"Capitalization or capitalisation in English grammar is the use of a capital letter at the start of a word. English usage varies from capitalization in other languages.\",\n",
    "    \"Washington, D.C. (also known as simply Washington or D.C., and officially as the District of Columbia) is the capital of the United States. It is a federal district.\",\n",
    "    \"Capital punishment (the death penalty) has existed in the United States since beforethe United States was a country. As of 2017, capital punishment is legal in 30 of the 50 states.\",\n",
    "]\n",
    "\n",
    "response = co.rerank(\n",
    "    model=\"rerank-english-v3.0\",\n",
    "    query=\"What is the capital of the United States?\",\n",
    "    documents=docs,\n",
    "    top_n=1,\n",
    ")\n",
    "\n",
    "docs[response.results[0].index] # re-ranks the docs so that the first one is the most semantically similar"
   ]
  },
  {
   "cell_type": "code",
   "execution_count": 720,
   "id": "9bf07422-d693-42c2-b429-61c44665ebae",
   "metadata": {},
   "outputs": [],
   "source": [
    "def test_query_with_cohere(query, expected_hash, language, top_k=10):\n",
    "        \n",
    "    results = query_from_pinecone(query, top_k=top_k)\n",
    "    result_in_pinecone_list = expected_hash in (r['id'] for r in results)    \n",
    "    docs = [result['metadata']['text'] for result in results]   \n",
    "        \n",
    "    response = co.rerank(\n",
    "        model=\"rerank-multilingual-v3.0\",\n",
    "        query=query,\n",
    "        documents=docs,\n",
    "        top_n=1,\n",
    "    )\n",
    "\n",
    "    top_doc = docs[response.results[0].index]\n",
    "    top_result_correct = my_hash(top_doc) == expected_hash\n",
    "    \n",
    "    return dict(\n",
    "        result_in_pinecone_list=result_in_pinecone_list, top_result_correct=top_result_correct,\n",
    "        language=language, expected_hash=expected_hash, top_hash=results[0]['id']\n",
    "    )"
   ]
  },
  {
   "cell_type": "code",
   "execution_count": 721,
   "id": "bdb42790-26bd-4e77-885e-eb79b2a7b075",
   "metadata": {},
   "outputs": [
    {
     "data": {
      "text/plain": [
       "{'result_in_pinecone_list': True,\n",
       " 'top_result_correct': True,\n",
       " 'language': 'english',\n",
       " 'expected_hash': '3eff3f7809e71e9c0c7c6827769e4220',\n",
       " 'top_hash': '3eff3f7809e71e9c0c7c6827769e4220'}"
      ]
     },
     "execution_count": 721,
     "metadata": {},
     "output_type": "execute_result"
    }
   ],
   "source": [
    "test_query_with_cohere(**synthetic_questions[0])"
   ]
  },
  {
   "cell_type": "code",
   "execution_count": 722,
   "id": "c50e16bf-44aa-4d96-a255-49df62708c69",
   "metadata": {},
   "outputs": [
    {
     "name": "stderr",
     "output_type": "stream",
     "text": [
      "100%|██████████████████████████████████████████████████████████████████████| 220/220 [02:22<00:00,  1.55it/s]\n"
     ]
    }
   ],
   "source": [
    "synthetic_test_results_cohere = []\n",
    "for synthetic_question in tqdm(synthetic_questions):\n",
    "    synthetic_test_results_cohere.append(test_query_with_cohere(**synthetic_question))"
   ]
  },
  {
   "cell_type": "code",
   "execution_count": 723,
   "id": "94f844cb-832f-4680-9a09-78388cfe8935",
   "metadata": {},
   "outputs": [
    {
     "data": {
      "image/png": "[encoded data removed]",
      "text/plain": [
       "<Figure size 800x500 with 1 Axes>"
      ]
     },
     "metadata": {},
     "output_type": "display_data"
    }
   ],
   "source": [
    "import matplotlib.pyplot as plt\n",
    "\n",
    "# Data\n",
    "data = {\n",
    "    'OpenAI + Cohere': pd.Series([s['top_result_correct'] for s in synthetic_test_results_cohere]).mean() * 100,\n",
    "    'OpenAI Only': pd.Series([s['top_result_correct'] for s in synthetic_test_results]).mean() * 100\n",
    "}\n",
    "\n",
    "percent_change = round((data['OpenAI + Cohere'] - data['OpenAI Only']) / data['OpenAI Only'] * 100, 2)\n",
    "\n",
    "# Set the style and color palette\n",
    "plt.style.use('fivethirtyeight')\n",
    "\n",
    "# Create the figure and axis\n",
    "fig, ax = plt.subplots(figsize=(8, 5))  # Reduced from (10, 6)\n",
    "\n",
    "# Plot the data\n",
    "bars = ax.bar(data.keys(), data.values())\n",
    "\n",
    "# Customize the plot\n",
    "ax.set_title(\n",
    "    f'{base_url.split(\"//\")[-1]} RAG Results ({percent_change}% {\"better\" if percent_change > 0 else \"worse\"} w/ Cohere)', \n",
    "    fontsize=16, pad=4)\n",
    "ax.set_ylabel('Top Result Accuracy (%)', fontsize=12)\n",
    "ax.tick_params(axis='x')\n",
    "\n",
    "# Add value labels on top of each bar\n",
    "ax.bar_label(bars, fmt='%.2f', padding=3)\n",
    "\n",
    "# Adjust y-axis to start from 0.7 for better visualization of differences\n",
    "ax.set_ylim(min(data.values()) - 5, max(data.values()) + 2)\n",
    "\n",
    "# Add a grid for better readability\n",
    "ax.grid(axis='y', linestyle='--', alpha=0.7)\n",
    "\n",
    "# Adjust layout and display the plot\n",
    "plt.tight_layout()\n",
    "plt.show()"
   ]
  },
  {
   "cell_type": "code",
   "execution_count": 724,
   "id": "d187941c-44d1-40ef-9893-5d41c1ca46a9",
   "metadata": {},
   "outputs": [
    {
     "name": "stdout",
     "output_type": "stream",
     "text": [
      "result_in_pinecone_list    0.981818\n",
      "top_result_correct         0.904545\n",
      "dtype: float64\n"
     ]
    },
    {
     "data": {
      "image/png": "[encoded data removed]",
      "text/plain": [
       "<Figure size 1200x600 with 1 Axes>"
      ]
     },
     "metadata": {},
     "output_type": "display_data"
    }
   ],
   "source": [
    "import pandas as pd\n",
    "results_df = pd.DataFrame(synthetic_test_results_cohere)\n",
    "print(results_df[['result_in_pinecone_list', 'top_result_correct']].mean())\n",
    "\n",
    "grouped_data = results_df.groupby('language')[['result_in_pinecone_list', 'top_result_correct']].mean()\n",
    "\n",
    "# Set the style and color palette\n",
    "plt.style.use('fivethirtyeight')\n",
    "\n",
    "# Create the figure and axis\n",
    "fig, ax = plt.subplots(figsize=(12, 6))\n",
    "\n",
    "# Plot the data\n",
    "grouped_data.plot(kind='bar', ax=ax)\n",
    "\n",
    "# Customize the plot\n",
    "ax.set_title('Performance Metrics by Language (OpenAI + Cohere Rerank)', fontsize=16, pad=20)\n",
    "ax.set_xlabel('Language', fontsize=12)\n",
    "ax.set_ylabel('Mean Score', fontsize=12)\n",
    "ax.tick_params(axis='x', rotation=45)\n",
    "\n",
    "# Add value labels on top of each bar\n",
    "for i in ax.containers:\n",
    "    ax.bar_label(i, fmt='%.2f', padding=3)\n",
    "\n",
    "# Add a legend\n",
    "ax.legend(['Result in Pinecone List', 'Top Result Correct'], title='Metrics', loc='upper left', bbox_to_anchor=(1, 1))\n",
    "\n",
    "# Adjust layout and display the plot\n",
    "plt.tight_layout()\n",
    "plt.show()"
   ]
  }
 ],
 "metadata": {
  "accelerator": "GPU",
  "colab": {
   "gpuType": "T4",
   "machine_shape": "hm",
   "provenance": []
  },
  "kernelspec": {
   "display_name": "Python (/usr/bin/python3)",
   "language": "python",
   "name": "my_python3"
  },
  "language_info": {
   "codemirror_mode": {
    "name": "ipython",
    "version": 3
   },
   "file_extension": ".py",
   "mimetype": "text/x-python",
   "name": "python",
   "nbconvert_exporter": "python",
   "pygments_lexer": "ipython3",
   "version": "3.9.6"
  }
 },
 "nbformat": 4,
 "nbformat_minor": 5
}
