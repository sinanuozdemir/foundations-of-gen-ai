version https://git-lfs.github.com/spec/v1
oid sha256:d6f668ea044550eb19d7e1be1fcf4cc52646c90e864a5df8f92a77f63e5039af
size 1438745
